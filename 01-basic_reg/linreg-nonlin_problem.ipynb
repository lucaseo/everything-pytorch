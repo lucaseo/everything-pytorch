{
 "cells": [
  {
   "cell_type": "markdown",
   "metadata": {},
   "source": [
    "# Linear Regresssion (non linear)\n",
    "\n",
    "$$ y = -X^3 - 8X^2 + 3$$"
   ]
  },
  {
   "cell_type": "markdown",
   "metadata": {},
   "source": [
    "## Import libraries"
   ]
  },
  {
   "cell_type": "code",
   "execution_count": 1,
   "metadata": {},
   "outputs": [],
   "source": [
    "import numpy as np\n",
    "\n",
    "import torch\n",
    "\n",
    "# 신경망 모형\n",
    "import torch.nn as nn\n",
    "\n",
    "# 경사하강법 알고리즘\n",
    "import torch.optim as optim\n",
    "\n",
    "# 텐서 초기값 부여\n",
    "import torch.nn.init as init\n",
    "\n",
    "# 자동미분\n",
    "from torch.autograd import Variable"
   ]
  },
  {
   "cell_type": "markdown",
   "metadata": {},
   "source": [
    "## Generate data"
   ]
  },
  {
   "cell_type": "code",
   "execution_count": 2,
   "metadata": {},
   "outputs": [
    {
     "name": "stdout",
     "output_type": "stream",
     "text": [
      "tensor([[  1.1117],\n",
      "        [ -6.0614],\n",
      "        [ -6.3982],\n",
      "        [ -5.6737],\n",
      "        [ -4.0657],\n",
      "        [ -5.0216],\n",
      "        [ -1.0927],\n",
      "        [  4.8780],\n",
      "        [ -0.7944],\n",
      "        [-11.4814]])\n",
      "tensor([[  -8.2607],\n",
      "        [ -68.2251],\n",
      "        [ -62.5727],\n",
      "        [ -71.8857],\n",
      "        [ -62.0343],\n",
      "        [ -72.1046],\n",
      "        [  -5.2477],\n",
      "        [-303.4257],\n",
      "        [  -1.5468],\n",
      "        [ 461.9220]])\n",
      "tensor([[  -7.6979],\n",
      "        [ -67.2337],\n",
      "        [ -60.8817],\n",
      "        [ -71.3841],\n",
      "        [ -63.5215],\n",
      "        [ -71.7730],\n",
      "        [  -5.7564],\n",
      "        [-303.4938],\n",
      "        [  -0.6030],\n",
      "        [ 461.6690]])\n"
     ]
    }
   ],
   "source": [
    "# 데이터의 갯수\n",
    "num_data = 1000 \n",
    "\n",
    "# 경사하강법 반복 수\n",
    "num_epoch = 1000\n",
    "\n",
    "#\n",
    "noise = init.normal_(torch.FloatTensor(num_data,1),std=1)\n",
    "x = init.uniform_(torch.Tensor(num_data,1),-15,10)\n",
    "\n",
    "y = -x**3 - 8*(x**2) + 3\n",
    "y_noise = y+noise\n",
    "\n",
    "print(x[:10])\n",
    "print(y[:10])\n",
    "print(y_noise[:10])"
   ]
  },
  {
   "cell_type": "markdown",
   "metadata": {},
   "source": [
    "## Define model & optimizer\n",
    "\n",
    "- Model: \n",
    "    - linear model\n",
    "    \n",
    "    \n",
    "- Loss function:\n",
    "    - MSE\n",
    "    \n",
    "    \n",
    "- Optimizer:\n",
    "    - SGD"
   ]
  },
  {
   "cell_type": "code",
   "execution_count": 3,
   "metadata": {},
   "outputs": [],
   "source": [
    "model = nn.Linear(1, 1)\n",
    "\n",
    "loss_func = nn.MSELoss()\n",
    "\n",
    "optimizer = optim.SGD(model.parameters(), \n",
    "                      lr=0.01)"
   ]
  },
  {
   "cell_type": "markdown",
   "metadata": {},
   "source": [
    "## Train"
   ]
  },
  {
   "cell_type": "code",
   "execution_count": 4,
   "metadata": {},
   "outputs": [
    {
     "name": "stdout",
     "output_type": "stream",
     "text": [
      "tensor(365415.7188, grad_fn=<MseLossBackward>)\n",
      "tensor(122613.2344, grad_fn=<MseLossBackward>)\n",
      "tensor(110447.4844, grad_fn=<MseLossBackward>)\n",
      "tensor(101996.9609, grad_fn=<MseLossBackward>)\n",
      "tensor(96127.1094, grad_fn=<MseLossBackward>)\n",
      "tensor(92049.7969, grad_fn=<MseLossBackward>)\n",
      "tensor(89217.6250, grad_fn=<MseLossBackward>)\n",
      "tensor(87250.3672, grad_fn=<MseLossBackward>)\n",
      "tensor(85883.8750, grad_fn=<MseLossBackward>)\n",
      "tensor(84934.6875, grad_fn=<MseLossBackward>)\n",
      "tensor(84275.3672, grad_fn=<MseLossBackward>)\n",
      "tensor(83817.3906, grad_fn=<MseLossBackward>)\n",
      "tensor(83499.2812, grad_fn=<MseLossBackward>)\n",
      "tensor(83278.3047, grad_fn=<MseLossBackward>)\n",
      "tensor(83124.8125, grad_fn=<MseLossBackward>)\n",
      "tensor(83018.2109, grad_fn=<MseLossBackward>)\n",
      "tensor(82944.1719, grad_fn=<MseLossBackward>)\n",
      "tensor(82892.6953, grad_fn=<MseLossBackward>)\n",
      "tensor(82856.9609, grad_fn=<MseLossBackward>)\n",
      "tensor(82832.1562, grad_fn=<MseLossBackward>)\n",
      "tensor(82814.9219, grad_fn=<MseLossBackward>)\n",
      "tensor(82802.9453, grad_fn=<MseLossBackward>)\n",
      "tensor(82794.6250, grad_fn=<MseLossBackward>)\n",
      "tensor(82788.8516, grad_fn=<MseLossBackward>)\n",
      "tensor(82784.8438, grad_fn=<MseLossBackward>)\n",
      "tensor(82782.0312, grad_fn=<MseLossBackward>)\n",
      "tensor(82780.1094, grad_fn=<MseLossBackward>)\n",
      "tensor(82778.7578, grad_fn=<MseLossBackward>)\n",
      "tensor(82777.8281, grad_fn=<MseLossBackward>)\n",
      "tensor(82777.1797, grad_fn=<MseLossBackward>)\n",
      "tensor(82776.7344, grad_fn=<MseLossBackward>)\n",
      "tensor(82776.4062, grad_fn=<MseLossBackward>)\n",
      "tensor(82776.1953, grad_fn=<MseLossBackward>)\n",
      "tensor(82776.0391, grad_fn=<MseLossBackward>)\n",
      "tensor(82775.9453, grad_fn=<MseLossBackward>)\n",
      "tensor(82775.8672, grad_fn=<MseLossBackward>)\n",
      "tensor(82775.8125, grad_fn=<MseLossBackward>)\n",
      "tensor(82775.7812, grad_fn=<MseLossBackward>)\n",
      "tensor(82775.7578, grad_fn=<MseLossBackward>)\n",
      "tensor(82775.7344, grad_fn=<MseLossBackward>)\n",
      "tensor(82775.7266, grad_fn=<MseLossBackward>)\n",
      "tensor(82775.7188, grad_fn=<MseLossBackward>)\n",
      "tensor(82775.7109, grad_fn=<MseLossBackward>)\n",
      "tensor(82775.7188, grad_fn=<MseLossBackward>)\n",
      "tensor(82775.6953, grad_fn=<MseLossBackward>)\n",
      "tensor(82775.7031, grad_fn=<MseLossBackward>)\n",
      "tensor(82775.7109, grad_fn=<MseLossBackward>)\n",
      "tensor(82775.7109, grad_fn=<MseLossBackward>)\n",
      "tensor(82775.7109, grad_fn=<MseLossBackward>)\n",
      "tensor(82775.7031, grad_fn=<MseLossBackward>)\n",
      "tensor(82775.7031, grad_fn=<MseLossBackward>)\n",
      "tensor(82775.6953, grad_fn=<MseLossBackward>)\n",
      "tensor(82775.7031, grad_fn=<MseLossBackward>)\n",
      "tensor(82775.6953, grad_fn=<MseLossBackward>)\n",
      "tensor(82775.6953, grad_fn=<MseLossBackward>)\n",
      "tensor(82775.7031, grad_fn=<MseLossBackward>)\n",
      "tensor(82775.7109, grad_fn=<MseLossBackward>)\n",
      "tensor(82775.6875, grad_fn=<MseLossBackward>)\n",
      "tensor(82775.6953, grad_fn=<MseLossBackward>)\n",
      "tensor(82775.7031, grad_fn=<MseLossBackward>)\n",
      "tensor(82775.7031, grad_fn=<MseLossBackward>)\n",
      "tensor(82775.6875, grad_fn=<MseLossBackward>)\n",
      "tensor(82775.7031, grad_fn=<MseLossBackward>)\n",
      "tensor(82775.6953, grad_fn=<MseLossBackward>)\n",
      "tensor(82775.7188, grad_fn=<MseLossBackward>)\n",
      "tensor(82775.7188, grad_fn=<MseLossBackward>)\n",
      "tensor(82775.7188, grad_fn=<MseLossBackward>)\n",
      "tensor(82775.7109, grad_fn=<MseLossBackward>)\n",
      "tensor(82775.7109, grad_fn=<MseLossBackward>)\n",
      "tensor(82775.7109, grad_fn=<MseLossBackward>)\n",
      "tensor(82775.7188, grad_fn=<MseLossBackward>)\n",
      "tensor(82775.7031, grad_fn=<MseLossBackward>)\n",
      "tensor(82775.7109, grad_fn=<MseLossBackward>)\n",
      "tensor(82775.7109, grad_fn=<MseLossBackward>)\n",
      "tensor(82775.7109, grad_fn=<MseLossBackward>)\n",
      "tensor(82775.7109, grad_fn=<MseLossBackward>)\n",
      "tensor(82775.7109, grad_fn=<MseLossBackward>)\n",
      "tensor(82775.7109, grad_fn=<MseLossBackward>)\n",
      "tensor(82775.7109, grad_fn=<MseLossBackward>)\n",
      "tensor(82775.7109, grad_fn=<MseLossBackward>)\n",
      "tensor(82775.7109, grad_fn=<MseLossBackward>)\n",
      "tensor(82775.7109, grad_fn=<MseLossBackward>)\n",
      "tensor(82775.7109, grad_fn=<MseLossBackward>)\n",
      "tensor(82775.7109, grad_fn=<MseLossBackward>)\n",
      "tensor(82775.7109, grad_fn=<MseLossBackward>)\n",
      "tensor(82775.7109, grad_fn=<MseLossBackward>)\n",
      "tensor(82775.7109, grad_fn=<MseLossBackward>)\n",
      "tensor(82775.7109, grad_fn=<MseLossBackward>)\n",
      "tensor(82775.7109, grad_fn=<MseLossBackward>)\n",
      "tensor(82775.7109, grad_fn=<MseLossBackward>)\n",
      "tensor(82775.7109, grad_fn=<MseLossBackward>)\n",
      "tensor(82775.7109, grad_fn=<MseLossBackward>)\n",
      "tensor(82775.7109, grad_fn=<MseLossBackward>)\n",
      "tensor(82775.7109, grad_fn=<MseLossBackward>)\n",
      "tensor(82775.7109, grad_fn=<MseLossBackward>)\n",
      "tensor(82775.7109, grad_fn=<MseLossBackward>)\n",
      "tensor(82775.7109, grad_fn=<MseLossBackward>)\n",
      "tensor(82775.7109, grad_fn=<MseLossBackward>)\n",
      "tensor(82775.7109, grad_fn=<MseLossBackward>)\n",
      "tensor(82775.7109, grad_fn=<MseLossBackward>)\n"
     ]
    }
   ],
   "source": [
    "loss_arr = []\n",
    "label = Variable(y_noise)\n",
    "\n",
    "for idx, epoch in enumerate(range(num_epoch)):\n",
    "    optimizer.zero_grad()\n",
    "    \n",
    "    output = model(Variable(x))\n",
    "    \n",
    "    loss = loss_func(output, label)\n",
    "    loss.backward()\n",
    "    optimizer.step()\n",
    "    \n",
    "    if idx % 10 == 0:\n",
    "        print(loss)\n",
    "        \n",
    "    loss_arr.append(loss.data.numpy())"
   ]
  },
  {
   "cell_type": "code",
   "execution_count": 5,
   "metadata": {},
   "outputs": [
    {
     "name": "stdout",
     "output_type": "stream",
     "text": [
      "tensor([[-72.6042]]) tensor([-249.0000])\n"
     ]
    }
   ],
   "source": [
    "param_list = list(model.parameters())\n",
    "print(param_list[0].data,param_list[1].data)"
   ]
  },
  {
   "cell_type": "code",
   "execution_count": 6,
   "metadata": {},
   "outputs": [
    {
     "name": "stdout",
     "output_type": "stream",
     "text": [
      "-93.77117096\n"
     ]
    }
   ],
   "source": [
    "X = -1.8578\n",
    "y_hat = -74.3268 * X - 231.8555\n",
    "\n",
    "print(y_hat)"
   ]
  },
  {
   "cell_type": "code",
   "execution_count": 7,
   "metadata": {},
   "outputs": [
    {
     "data": {
      "image/png": "[encoded data removed]",
      "text/plain": [
       "<Figure size 432x288 with 1 Axes>"
      ]
     },
     "metadata": {
      "needs_background": "light"
     },
     "output_type": "display_data"
    }
   ],
   "source": [
    "import matplotlib.pyplot as plt\n",
    "\n",
    "plt.plot(loss_arr)\n",
    "plt.show()"
   ]
  }
 ],
 "metadata": {
  "kernelspec": {
   "display_name": "Python 3",
   "language": "python",
   "name": "python3"
  },
  "language_info": {
   "codemirror_mode": {
    "name": "ipython",
    "version": 3
   },
   "file_extension": ".py",
   "mimetype": "text/x-python",
   "name": "python",
   "nbconvert_exporter": "python",
   "pygments_lexer": "ipython3",
   "version": "3.7.7"
  }
 },
 "nbformat": 4,
 "nbformat_minor": 4
}
