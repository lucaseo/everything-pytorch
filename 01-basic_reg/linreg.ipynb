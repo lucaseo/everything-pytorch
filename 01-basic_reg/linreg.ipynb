{
 "cells": [
  {
   "cell_type": "markdown",
   "metadata": {},
   "source": [
    "# Linear Regresssion\n",
    "\n",
    "$$y = 2 X + 3 + \\epsilon$$"
   ]
  },
  {
   "cell_type": "markdown",
   "metadata": {},
   "source": [
    "## Import libraries"
   ]
  },
  {
   "cell_type": "code",
   "execution_count": 1,
   "metadata": {},
   "outputs": [],
   "source": [
    "import numpy as np\n",
    "\n",
    "import torch\n",
    "\n",
    "# 신경망 모형\n",
    "import torch.nn as nn\n",
    "\n",
    "# 경사하강법 알고리즘\n",
    "import torch.optim as optim\n",
    "\n",
    "# 텐서 초기값 부여\n",
    "import torch.nn.init as init\n",
    "\n",
    "# 자동미분\n",
    "from torch.autograd import Variable"
   ]
  },
  {
   "cell_type": "markdown",
   "metadata": {},
   "source": [
    "## Generate data"
   ]
  },
  {
   "cell_type": "code",
   "execution_count": 2,
   "metadata": {},
   "outputs": [
    {
     "name": "stdout",
     "output_type": "stream",
     "text": [
      "tensor([[ 0.8465],\n",
      "        [ 1.6192],\n",
      "        [-2.1066],\n",
      "        [-9.7760],\n",
      "        [ 9.6644],\n",
      "        [-3.2202],\n",
      "        [ 4.2515],\n",
      "        [-2.5609],\n",
      "        [-2.4390],\n",
      "        [ 7.4990]])\n",
      "tensor([[  4.6929],\n",
      "        [  6.2384],\n",
      "        [ -1.2132],\n",
      "        [-16.5520],\n",
      "        [ 22.3287],\n",
      "        [ -3.4404],\n",
      "        [ 11.5030],\n",
      "        [ -2.1217],\n",
      "        [ -1.8780],\n",
      "        [ 17.9980]])\n",
      "tensor([[  5.1236],\n",
      "        [  5.3199],\n",
      "        [  0.0887],\n",
      "        [-14.5907],\n",
      "        [ 21.7484],\n",
      "        [ -4.2366],\n",
      "        [ 11.1833],\n",
      "        [ -3.5814],\n",
      "        [ -0.4250],\n",
      "        [ 17.0540]])\n"
     ]
    }
   ],
   "source": [
    "# 데이터의 갯수\n",
    "num_data = 1000 \n",
    "\n",
    "# 경사하강법 반복 수\n",
    "num_epoch = 1000\n",
    "\n",
    "#\n",
    "noise = init.normal_(torch.FloatTensor(num_data,1),std=1)\n",
    "x = init.uniform_(torch.Tensor(num_data,1),-10,10)\n",
    "\n",
    "y = 2*x+3\n",
    "y_noise = 2*x+3+noise\n",
    "\n",
    "print(x[:10])\n",
    "print(y[:10])\n",
    "print(y_noise[:10])"
   ]
  },
  {
   "cell_type": "markdown",
   "metadata": {},
   "source": [
    "## Define model & optimizer\n",
    "\n",
    "- Model: \n",
    "    - linear model\n",
    "    \n",
    "    \n",
    "- Loss function:\n",
    "    - MSE\n",
    "    \n",
    "    \n",
    "- Optimizer:\n",
    "    - SGD"
   ]
  },
  {
   "cell_type": "code",
   "execution_count": 10,
   "metadata": {},
   "outputs": [],
   "source": [
    "model = nn.Linear(1, 1)\n",
    "\n",
    "loss_func = nn.MSELoss()\n",
    "\n",
    "optimizer = optim.SGD(model.parameters(), \n",
    "                      lr=0.01)"
   ]
  },
  {
   "cell_type": "markdown",
   "metadata": {},
   "source": [
    "## Train"
   ]
  },
  {
   "cell_type": "code",
   "execution_count": 11,
   "metadata": {},
   "outputs": [
    {
     "name": "stdout",
     "output_type": "stream",
     "text": [
      "tensor(119.5090, grad_fn=<MseLossBackward>)\n",
      "tensor(1.9559, grad_fn=<MseLossBackward>)\n",
      "tensor(1.1421, grad_fn=<MseLossBackward>)\n",
      "tensor(1.0341, grad_fn=<MseLossBackward>)\n",
      "tensor(1.0198, grad_fn=<MseLossBackward>)\n",
      "tensor(1.0179, grad_fn=<MseLossBackward>)\n",
      "tensor(1.0176, grad_fn=<MseLossBackward>)\n",
      "tensor(1.0176, grad_fn=<MseLossBackward>)\n",
      "tensor(1.0176, grad_fn=<MseLossBackward>)\n",
      "tensor(1.0176, grad_fn=<MseLossBackward>)\n",
      "tensor(1.0176, grad_fn=<MseLossBackward>)\n",
      "tensor(1.0176, grad_fn=<MseLossBackward>)\n",
      "tensor(1.0176, grad_fn=<MseLossBackward>)\n",
      "tensor(1.0176, grad_fn=<MseLossBackward>)\n",
      "tensor(1.0176, grad_fn=<MseLossBackward>)\n",
      "tensor(1.0176, grad_fn=<MseLossBackward>)\n",
      "tensor(1.0176, grad_fn=<MseLossBackward>)\n",
      "tensor(1.0176, grad_fn=<MseLossBackward>)\n",
      "tensor(1.0176, grad_fn=<MseLossBackward>)\n",
      "tensor(1.0176, grad_fn=<MseLossBackward>)\n"
     ]
    }
   ],
   "source": [
    "loss_arr = []\n",
    "label = Variable(y_noise)\n",
    "\n",
    "for idx, epoch in enumerate(range(num_epoch)):\n",
    "    optimizer.zero_grad()\n",
    "    \n",
    "    output = model(Variable(x))\n",
    "    \n",
    "    loss = loss_func(output, label)\n",
    "    loss.backward()\n",
    "    optimizer.step()\n",
    "    \n",
    "    if idx % 50 == 0:\n",
    "        print(loss)\n",
    "        \n",
    "    loss_arr.append(loss.data.numpy())"
   ]
  },
  {
   "cell_type": "code",
   "execution_count": 12,
   "metadata": {},
   "outputs": [
    {
     "name": "stdout",
     "output_type": "stream",
     "text": [
      "tensor([[1.9970]]) tensor([3.0451])\n"
     ]
    }
   ],
   "source": [
    "param_list = list(model.parameters())\n",
    "print(param_list[0].data,param_list[1].data)"
   ]
  },
  {
   "cell_type": "markdown",
   "metadata": {},
   "source": [
    "- 기존 식 \n",
    "    - $y = 2 X + 3 + \\epsilon $\n",
    "\n",
    "- 추정 식\n",
    "    - $ \\hat{y} = 1.9918 X + 3.0472 $"
   ]
  },
  {
   "cell_type": "code",
   "execution_count": 8,
   "metadata": {},
   "outputs": [
    {
     "name": "stdout",
     "output_type": "stream",
     "text": [
      "-2.05360062\n"
     ]
    }
   ],
   "source": [
    "X = -2.5609\n",
    "y_hat = 1.9918 * X + 3.0472\n",
    "\n",
    "print(y_hat)"
   ]
  },
  {
   "cell_type": "code",
   "execution_count": 9,
   "metadata": {},
   "outputs": [
    {
     "data": {
      "image/png": "[encoded data removed]",
      "text/plain": [
       "<Figure size 432x288 with 1 Axes>"
      ]
     },
     "metadata": {
      "needs_background": "light"
     },
     "output_type": "display_data"
    }
   ],
   "source": [
    "import matplotlib.pyplot as plt\n",
    "\n",
    "plt.plot(np.log(loss_arr))\n",
    "plt.show()"
   ]
  }
 ],
 "metadata": {
  "kernelspec": {
   "display_name": "Python 3",
   "language": "python",
   "name": "python3"
  },
  "language_info": {
   "codemirror_mode": {
    "name": "ipython",
    "version": 3
   },
   "file_extension": ".py",
   "mimetype": "text/x-python",
   "name": "python",
   "nbconvert_exporter": "python",
   "pygments_lexer": "ipython3",
   "version": "3.7.7"
  }
 },
 "nbformat": 4,
 "nbformat_minor": 4
}
