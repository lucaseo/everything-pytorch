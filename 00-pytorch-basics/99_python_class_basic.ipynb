{
 "cells": [
  {
   "cell_type": "markdown",
   "metadata": {},
   "source": [
    "1. class & method\n",
    "2. inheritance\n",
    "3. override와 super"
   ]
  },
  {
   "cell_type": "markdown",
   "metadata": {},
   "source": [
    "# 1. 클래스"
   ]
  },
  {
   "cell_type": "code",
   "execution_count": 1,
   "metadata": {},
   "outputs": [],
   "source": [
    "class Human():\n",
    "    \"\"\"\n",
    "    사람\n",
    "    \"\"\""
   ]
  },
  {
   "cell_type": "code",
   "execution_count": 2,
   "metadata": {},
   "outputs": [],
   "source": [
    "person1 = Human()\n",
    "person2 = Human()"
   ]
  },
  {
   "cell_type": "code",
   "execution_count": 3,
   "metadata": {},
   "outputs": [
    {
     "data": {
      "text/plain": [
       "True"
      ]
     },
     "execution_count": 3,
     "metadata": {},
     "output_type": "execute_result"
    }
   ],
   "source": [
    "isinstance(person1, Human)"
   ]
  },
  {
   "cell_type": "code",
   "execution_count": 4,
   "metadata": {},
   "outputs": [
    {
     "name": "stdout",
     "output_type": "stream",
     "text": [
      "kor\n",
      "eng\n",
      "Sujin\n",
      "David\n"
     ]
    }
   ],
   "source": [
    "person1.language = 'kor'\n",
    "person2.language = 'eng'\n",
    "\n",
    "person1.name = 'Sujin'\n",
    "person2.name = 'David'\n",
    "\n",
    "print(person1.language)\n",
    "print(person2.language)\n",
    "\n",
    "print(person1.name)\n",
    "print(person2.name)"
   ]
  },
  {
   "cell_type": "markdown",
   "metadata": {},
   "source": [
    "클래스는 Human 이지만\n",
    "\n",
    "person1, person2는 각각 별개의 인스턴스\n",
    "\n",
    "위의 예시처럼 이름과 언어 같은 개별 인스턴스의 특성을 각각 저장할 수도 있고, \n",
    "\n",
    "행동도 정의할 수 있다."
   ]
  },
  {
   "cell_type": "markdown",
   "metadata": {},
   "source": [
    "### Method\n",
    "\n",
    "- `self`\n",
    "    - 파이썬에서 주로 메서드의 첫번째 인자는 self로 쓴다.\n",
    "\n",
    "- `__init__`\n",
    "    - 인스턴스를 만들 때 실행되는 \"초기화\" 함수\n",
    "    \n",
    "- `__str__`\n",
    "    - 인스턴스 자체를 출력할 때 형식을 지정해주는 \"문자열화\" 함수\n",
    "\n"
   ]
  },
  {
   "cell_type": "code",
   "execution_count": 5,
   "metadata": {},
   "outputs": [],
   "source": [
    "class Human():\n",
    "    \"\"\"\n",
    "    사람\n",
    "    \"\"\"\n",
    "    def __init__(self, name, weight):\n",
    "        '''초기화 함수'''\n",
    "        self.name = name\n",
    "        self.weight = weight\n",
    "        \n",
    "    def __str__(self):\n",
    "        '''문자열화 함수'''\n",
    "        return \"{0} (몸무가 {1}kg)\".format(self.name, self.weight)\n",
    "        \n",
    "    def eat(self):\n",
    "        self.weight += 0.1\n",
    "        \n",
    "    def walk(self):\n",
    "        self.weight -= 0.05\n",
    "        \n",
    "    def speak(self, message):\n",
    "        print(message)"
   ]
  },
  {
   "cell_type": "code",
   "execution_count": 6,
   "metadata": {},
   "outputs": [],
   "source": [
    "person1 = Human(name='철수', weight=60.5)"
   ]
  },
  {
   "cell_type": "code",
   "execution_count": 7,
   "metadata": {},
   "outputs": [
    {
     "name": "stdout",
     "output_type": "stream",
     "text": [
      "철수\n",
      "60.5\n"
     ]
    }
   ],
   "source": [
    "print(person1.name)\n",
    "print(person1.weight)"
   ]
  },
  {
   "cell_type": "code",
   "execution_count": 8,
   "metadata": {},
   "outputs": [
    {
     "data": {
      "text/plain": [
       "60.6"
      ]
     },
     "execution_count": 8,
     "metadata": {},
     "output_type": "execute_result"
    }
   ],
   "source": [
    "person1.eat()\n",
    "person1.weight"
   ]
  },
  {
   "cell_type": "code",
   "execution_count": 9,
   "metadata": {},
   "outputs": [
    {
     "data": {
      "text/plain": [
       "60.550000000000004"
      ]
     },
     "execution_count": 9,
     "metadata": {},
     "output_type": "execute_result"
    }
   ],
   "source": [
    "person1.walk()\n",
    "person1.weight"
   ]
  },
  {
   "cell_type": "code",
   "execution_count": 10,
   "metadata": {},
   "outputs": [
    {
     "name": "stdout",
     "output_type": "stream",
     "text": [
      "안녕하세요\n"
     ]
    }
   ],
   "source": [
    "person1.speak(\"안녕하세요\")"
   ]
  },
  {
   "cell_type": "code",
   "execution_count": 11,
   "metadata": {},
   "outputs": [
    {
     "data": {
      "text/plain": [
       "'철수 (몸무가 60.550000000000004kg)'"
      ]
     },
     "execution_count": 11,
     "metadata": {},
     "output_type": "execute_result"
    }
   ],
   "source": [
    "person1.__str__()"
   ]
  },
  {
   "cell_type": "markdown",
   "metadata": {},
   "source": [
    "### 상속(inheritance)\n",
    "\n",
    "- 상속하는 클래스를 부모 클래스\n",
    "- 상속받는 클래스를 자식 클래스\n",
    "- 상속:\n",
    "    - 자식 클래스가 부모 클래스의 내용을 가져다 쓸 수 있는 것"
   ]
  },
  {
   "cell_type": "code",
   "execution_count": 12,
   "metadata": {},
   "outputs": [],
   "source": [
    "class Human():\n",
    "    def walk(self):\n",
    "        print(\"걷는다\")\n",
    "        \n",
    "    def eat(self):\n",
    "        print(\"먹는다\")\n",
    "        \n",
    "    def wave(self):\n",
    "        print(\"손 흔든다\")"
   ]
  },
  {
   "cell_type": "code",
   "execution_count": 13,
   "metadata": {},
   "outputs": [],
   "source": [
    "class Dog():\n",
    "    def walk(self):\n",
    "        print(\"걷는다\")\n",
    "        \n",
    "    def eat(self):\n",
    "        print(\"먹는다\")\n",
    "        \n",
    "    def wag(self):\n",
    "        print(\"꼬리를 흔든다\")"
   ]
  },
  {
   "cell_type": "code",
   "execution_count": 14,
   "metadata": {},
   "outputs": [
    {
     "name": "stdout",
     "output_type": "stream",
     "text": [
      "걷는다\n",
      "먹는다\n",
      "손 흔든다\n"
     ]
    }
   ],
   "source": [
    "person = Human()\n",
    "person.walk()\n",
    "person.eat()\n",
    "person.wave()"
   ]
  },
  {
   "cell_type": "code",
   "execution_count": 15,
   "metadata": {},
   "outputs": [
    {
     "name": "stdout",
     "output_type": "stream",
     "text": [
      "걷는다\n",
      "먹는다\n",
      "꼬리를 흔든다\n"
     ]
    }
   ],
   "source": [
    "dog = Dog()\n",
    "dog.walk()\n",
    "dog.eat()\n",
    "dog.wag()"
   ]
  },
  {
   "cell_type": "markdown",
   "metadata": {},
   "source": [
    "공통되는 특성을 '동물'로 정의하여 묶어본다.\n",
    "\n",
    "그리고 그걸 상속해서 써본다."
   ]
  },
  {
   "cell_type": "code",
   "execution_count": 16,
   "metadata": {},
   "outputs": [],
   "source": [
    "class Animal():\n",
    "    def walk(self):\n",
    "        print(\"걷는다\")\n",
    "        \n",
    "    def eat(self):\n",
    "        print(\"먹는다\")"
   ]
  },
  {
   "cell_type": "code",
   "execution_count": 17,
   "metadata": {},
   "outputs": [],
   "source": [
    "class Human(Animal):\n",
    "    \"\"\"\n",
    "    부모 클래스: Animal\n",
    "    자식 클래스: Human\n",
    "    \"\"\"\n",
    "    def wave(self):\n",
    "        print(\"손 흔든다\")\n",
    "\n",
    "\n",
    "\n",
    "class Dog(Animal):\n",
    "    \"\"\"\n",
    "    부모 클래스: Animal\n",
    "    자식 클래스: Dog\n",
    "    \"\"\"\n",
    "    def wag(self):\n",
    "        print(\"꼬리를 흔든다\")    "
   ]
  },
  {
   "cell_type": "code",
   "execution_count": 18,
   "metadata": {},
   "outputs": [
    {
     "name": "stdout",
     "output_type": "stream",
     "text": [
      "걷는다\n",
      "먹는다\n",
      "손 흔든다\n",
      "걷는다\n",
      "먹는다\n",
      "꼬리를 흔든다\n"
     ]
    }
   ],
   "source": [
    "person = Human()\n",
    "person.walk()\n",
    "person.eat()\n",
    "person.wave()\n",
    "\n",
    "dog = Dog()\n",
    "dog.walk()\n",
    "dog.eat()\n",
    "dog.wag()"
   ]
  },
  {
   "cell_type": "markdown",
   "metadata": {},
   "source": [
    "### `Super()`\n",
    "\n",
    "- 자식 클래스에서 부모의 클래스 내용을 사용하고 싶은 경우\n",
    "- `super().부모클래스내용`"
   ]
  },
  {
   "cell_type": "code",
   "execution_count": 19,
   "metadata": {},
   "outputs": [],
   "source": [
    "class Animal():\n",
    "    def greet(self):\n",
    "        print(\"인사한다\")\n",
    "        \n",
    "    def walk(self):\n",
    "        print(\"걷는다\")\n",
    "        \n",
    "    def eat(self):\n",
    "        print(\"먹는다\")\n",
    "        \n",
    "class Human(Animal):\n",
    "    def wave(self):\n",
    "        print(\"손을 흔들면서\")\n",
    "        \n",
    "    def greet(self):  # 오버라이드를 했지만\n",
    "        self.wave()   \n",
    "        super().greet() # 부모 클래스의 메소드를 사용함. "
   ]
  },
  {
   "cell_type": "code",
   "execution_count": 20,
   "metadata": {},
   "outputs": [
    {
     "name": "stdout",
     "output_type": "stream",
     "text": [
      "손을 흔들면서\n",
      "인사한다\n"
     ]
    }
   ],
   "source": [
    "person = Human()\n",
    "person.greet()"
   ]
  },
  {
   "cell_type": "code",
   "execution_count": 22,
   "metadata": {},
   "outputs": [
    {
     "name": "stdout",
     "output_type": "stream",
     "text": [
      "오른손을 흔들면서\n",
      "사람이/가 인사한다\n"
     ]
    }
   ],
   "source": [
    "person = Human(\"사람\", \"오른손\")\n",
    "person.name\n",
    "person.greet()"
   ]
  },
  {
   "cell_type": "code",
   "execution_count": 21,
   "metadata": {},
   "outputs": [],
   "source": [
    "class Animal():\n",
    "    \n",
    "    def __init__(self, name):\n",
    "        self.name = name\n",
    "    \n",
    "    def greet(self):\n",
    "        print(\"{}이/가 인사한다\".format(self.name))\n",
    "        \n",
    "    def walk(self):\n",
    "        print(\"걷는다\")\n",
    "        \n",
    "    def eat(self):\n",
    "        print(\"먹는다\")\n",
    "        \n",
    "\n",
    "class Human(Animal):\n",
    "    \n",
    "    def __init__(self, name, hand):  # 이름과 왼손/오른손잡이 초기화 정의\n",
    "        super().__init__(name)  # 이름과 관련된 부분은 부모의 메서드를 사용\n",
    "        self.hand = hand   # 왼손/오른손잡이 정의는 자식클래스에서 정의\n",
    "    \n",
    "    def wave(self):\n",
    "        print(\"{}을 흔들면서\".format(self.hand))\n",
    "        \n",
    "    def greet(self):\n",
    "        self.wave()   \n",
    "        super().greet()"
   ]
  },
  {
   "cell_type": "markdown",
   "metadata": {},
   "source": [
    "# Reference\n",
    "\n",
    "- https://programmers.co.kr/learn/courses/2\n",
    "\n",
    "- https://stackoverflow.com/questions/576169/understanding-python-super-with-init-methods\n",
    "\n",
    "- https://discuss.pytorch.org/t/is-there-a-reason-why-people-use-super-class-self-init-instead-of-super-init/15891"
   ]
  },
  {
   "cell_type": "code",
   "execution_count": null,
   "metadata": {},
   "outputs": [],
   "source": []
  }
 ],
 "metadata": {
  "kernelspec": {
   "display_name": "Python 3",
   "language": "python",
   "name": "python3"
  },
  "language_info": {
   "codemirror_mode": {
    "name": "ipython",
    "version": 3
   },
   "file_extension": ".py",
   "mimetype": "text/x-python",
   "name": "python",
   "nbconvert_exporter": "python",
   "pygments_lexer": "ipython3",
   "version": "3.7.7"
  }
 },
 "nbformat": 4,
 "nbformat_minor": 4
}
