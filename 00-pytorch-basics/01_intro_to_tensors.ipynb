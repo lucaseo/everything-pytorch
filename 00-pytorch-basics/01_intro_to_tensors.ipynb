{
 "cells": [
  {
   "cell_type": "code",
   "execution_count": 1,
   "metadata": {},
   "outputs": [],
   "source": [
    "import torch"
   ]
  },
  {
   "cell_type": "markdown",
   "metadata": {},
   "source": [
    "# initialize tensors"
   ]
  },
  {
   "cell_type": "code",
   "execution_count": 2,
   "metadata": {
    "pycharm": {
     "name": "#%%\n"
    }
   },
   "outputs": [
    {
     "name": "stdout",
     "output_type": "stream",
     "text": [
      "tensor([[-5.0861e-11,  4.5828e-41, -5.0861e-11,  4.5828e-41],\n",
      "        [-5.0861e-11,  4.5828e-41, -4.9992e-11,  4.5828e-41],\n",
      "        [ 0.0000e+00,  0.0000e+00, -2.1144e-01,  4.5828e-41],\n",
      "        [-2.1143e-01,  4.5828e-41,  0.0000e+00,  0.0000e+00],\n",
      "        [ 1.4013e-45,  0.0000e+00,  0.0000e+00,  0.0000e+00],\n",
      "        [ 0.0000e+00,  0.0000e+00,  0.0000e+00,  0.0000e+00]])\n"
     ]
    }
   ],
   "source": [
    "# uninitialized matrix\n",
    "x = torch.empty(6, 4)\n",
    "print(x)"
   ]
  },
  {
   "cell_type": "code",
   "execution_count": 3,
   "metadata": {},
   "outputs": [
    {
     "name": "stdout",
     "output_type": "stream",
     "text": [
      "tensor([[0.9139, 0.9390, 0.0870, 0.9506],\n",
      "        [0.7614, 0.5523, 0.5183, 0.0493],\n",
      "        [0.0025, 0.8013, 0.4986, 0.0188],\n",
      "        [0.7609, 0.4133, 0.4834, 0.9839],\n",
      "        [0.5211, 0.9298, 0.5479, 0.0975],\n",
      "        [0.3057, 0.0737, 0.2030, 0.9013]])\n"
     ]
    }
   ],
   "source": [
    "# randomly initialized matrix\n",
    "x = torch.rand(6, 4)\n",
    "print(x)"
   ]
  },
  {
   "cell_type": "code",
   "execution_count": 4,
   "metadata": {},
   "outputs": [
    {
     "name": "stdout",
     "output_type": "stream",
     "text": [
      "tensor([[0, 0, 0, 0],\n",
      "        [0, 0, 0, 0],\n",
      "        [0, 0, 0, 0],\n",
      "        [0, 0, 0, 0],\n",
      "        [0, 0, 0, 0],\n",
      "        [0, 0, 0, 0]])\n"
     ]
    }
   ],
   "source": [
    "# zero filled matrix\n",
    "x = torch.zeros(6, 4, dtype=torch.long)\n",
    "print(x)"
   ]
  },
  {
   "cell_type": "code",
   "execution_count": 5,
   "metadata": {},
   "outputs": [
    {
     "name": "stdout",
     "output_type": "stream",
     "text": [
      "tensor([[5.5000, 3.0000],\n",
      "        [7.2000, 0.0000]])\n"
     ]
    }
   ],
   "source": [
    "# construct tensor from data\n",
    "x = torch.tensor([[5.5, 3],\n",
    "                  [7.2, 0]])\n",
    "print(x)"
   ]
  },
  {
   "cell_type": "code",
   "execution_count": 6,
   "metadata": {},
   "outputs": [
    {
     "name": "stdout",
     "output_type": "stream",
     "text": [
      "tensor([[1., 1., 1., 1.],\n",
      "        [1., 1., 1., 1.],\n",
      "        [1., 1., 1., 1.],\n",
      "        [1., 1., 1., 1.],\n",
      "        [1., 1., 1., 1.]], dtype=torch.float64)\n",
      "tensor([[-0.0935, -0.0233, -0.2894, -0.9183],\n",
      "        [ 1.2784, -0.3687,  2.3859, -0.2566],\n",
      "        [ 0.3517,  2.3991, -0.5067, -0.2271],\n",
      "        [-1.0266,  0.4553, -0.1353,  1.5288],\n",
      "        [ 0.9630,  0.8329, -0.0540, -0.7559]])\n"
     ]
    }
   ],
   "source": [
    "# create tensor from existing tesfor and \n",
    "# reuse the properties of input tensor\n",
    "\n",
    "# new_* for overriding size\n",
    "x = x.new_ones(5, 4, dtype=torch.double)\n",
    "print(x)\n",
    "\n",
    "# override dtype but same size\n",
    "x = torch.randn_like(x, dtype=torch.float)\n",
    "print(x)"
   ]
  },
  {
   "cell_type": "code",
   "execution_count": 7,
   "metadata": {},
   "outputs": [
    {
     "name": "stdout",
     "output_type": "stream",
     "text": [
      "torch.Size([5, 4])\n"
     ]
    }
   ],
   "source": [
    "# return size of the matrix in tuple\n",
    "print(x.size())"
   ]
  },
  {
   "cell_type": "markdown",
   "metadata": {},
   "source": [
    "# operations with tensors"
   ]
  },
  {
   "cell_type": "code",
   "execution_count": 8,
   "metadata": {},
   "outputs": [
    {
     "name": "stdout",
     "output_type": "stream",
     "text": [
      "tensor([[-1.5471e-03,  3.2460e-02, -1.6050e-01, -4.2789e-01],\n",
      "        [ 1.4770e+00,  1.0100e-01,  2.8919e+00,  3.2946e-01],\n",
      "        [ 9.3317e-01,  2.4001e+00,  3.4011e-01,  6.1315e-01],\n",
      "        [-7.7513e-01,  9.7870e-01,  6.2150e-01,  1.8648e+00],\n",
      "        [ 1.8456e+00,  1.0284e+00,  8.6296e-01, -4.7060e-01]])\n",
      "tensor([[-1.5471e-03,  3.2460e-02, -1.6050e-01, -4.2789e-01],\n",
      "        [ 1.4770e+00,  1.0100e-01,  2.8919e+00,  3.2946e-01],\n",
      "        [ 9.3317e-01,  2.4001e+00,  3.4011e-01,  6.1315e-01],\n",
      "        [-7.7513e-01,  9.7870e-01,  6.2150e-01,  1.8648e+00],\n",
      "        [ 1.8456e+00,  1.0284e+00,  8.6296e-01, -4.7060e-01]])\n"
     ]
    }
   ],
   "source": [
    "# adding\n",
    "y = torch.rand(5, 4)\n",
    "print(x + y)\n",
    "print(torch.add(x, y))"
   ]
  },
  {
   "cell_type": "code",
   "execution_count": 9,
   "metadata": {},
   "outputs": [
    {
     "name": "stdout",
     "output_type": "stream",
     "text": [
      "tensor([[-1.5471e-03,  3.2460e-02, -1.6050e-01, -4.2789e-01],\n",
      "        [ 1.4770e+00,  1.0100e-01,  2.8919e+00,  3.2946e-01],\n",
      "        [ 9.3317e-01,  2.4001e+00,  3.4011e-01,  6.1315e-01],\n",
      "        [-7.7513e-01,  9.7870e-01,  6.2150e-01,  1.8648e+00],\n",
      "        [ 1.8456e+00,  1.0284e+00,  8.6296e-01, -4.7060e-01]])\n",
      "tensor([[-1.5471e-03,  3.2460e-02, -1.6050e-01, -4.2789e-01],\n",
      "        [ 1.4770e+00,  1.0100e-01,  2.8919e+00,  3.2946e-01],\n",
      "        [ 9.3317e-01,  2.4001e+00,  3.4011e-01,  6.1315e-01],\n",
      "        [-7.7513e-01,  9.7870e-01,  6.2150e-01,  1.8648e+00],\n",
      "        [ 1.8456e+00,  1.0284e+00,  8.6296e-01, -4.7060e-01]])\n"
     ]
    }
   ],
   "source": [
    "result = torch.empty(5, 4)\n",
    "torch.add(x, y, out=result)\n",
    "print(result)\n",
    "\n",
    "result = torch.add(x, y)\n",
    "print(result)"
   ]
  },
  {
   "cell_type": "code",
   "execution_count": 10,
   "metadata": {},
   "outputs": [
    {
     "name": "stdout",
     "output_type": "stream",
     "text": [
      "tensor([[-1.5471e-03,  3.2460e-02, -1.6050e-01, -4.2789e-01],\n",
      "        [ 1.4770e+00,  1.0100e-01,  2.8919e+00,  3.2946e-01],\n",
      "        [ 9.3317e-01,  2.4001e+00,  3.4011e-01,  6.1315e-01],\n",
      "        [-7.7513e-01,  9.7870e-01,  6.2150e-01,  1.8648e+00],\n",
      "        [ 1.8456e+00,  1.0284e+00,  8.6296e-01, -4.7060e-01]])\n"
     ]
    }
   ],
   "source": [
    "# inplace on y\n",
    "y.add_(x)\n",
    "print(y)"
   ]
  },
  {
   "cell_type": "code",
   "execution_count": 11,
   "metadata": {},
   "outputs": [
    {
     "name": "stdout",
     "output_type": "stream",
     "text": [
      "tensor([-0.0233, -0.3687,  2.3991,  0.4553,  0.8329])\n"
     ]
    }
   ],
   "source": [
    "## indexing\n",
    "\n",
    "print(x[:, 1])"
   ]
  },
  {
   "cell_type": "code",
   "execution_count": 12,
   "metadata": {},
   "outputs": [
    {
     "name": "stdout",
     "output_type": "stream",
     "text": [
      "torch.Size([4, 6])\n",
      "torch.Size([2, 12])\n",
      "torch.Size([3, 8])\n"
     ]
    }
   ],
   "source": [
    "## resizing\n",
    "\n",
    "x = torch.randn(4, 6)\n",
    "print(x.size())\n",
    "\n",
    "y = x.view(2, 12)\n",
    "print(y.size())\n",
    "\n",
    "# size -1 is determined by the other dimension\n",
    "# thus, here it will be 24/8 = 3\n",
    "z = x.view(-1, 8) \n",
    "print(z.size())"
   ]
  },
  {
   "cell_type": "code",
   "execution_count": 13,
   "metadata": {},
   "outputs": [
    {
     "name": "stdout",
     "output_type": "stream",
     "text": [
      "tensor([-1.7840])\n",
      "-1.7839534282684326\n"
     ]
    }
   ],
   "source": [
    "## returning one element tensor as python number\n",
    "x = torch.randn(1)\n",
    "print(x)\n",
    "print(x.item())"
   ]
  },
  {
   "cell_type": "markdown",
   "metadata": {},
   "source": [
    "# Tensor2Numpy , Numpy2Tensor"
   ]
  },
  {
   "cell_type": "code",
   "execution_count": 14,
   "metadata": {},
   "outputs": [
    {
     "name": "stdout",
     "output_type": "stream",
     "text": [
      "tensor([1., 1., 1., 1., 1., 1.])\n"
     ]
    }
   ],
   "source": [
    "a = torch.ones(6)\n",
    "print(a)"
   ]
  },
  {
   "cell_type": "code",
   "execution_count": 15,
   "metadata": {},
   "outputs": [
    {
     "name": "stdout",
     "output_type": "stream",
     "text": [
      "[1. 1. 1. 1. 1. 1.]\n"
     ]
    }
   ],
   "source": [
    "b = a.numpy()\n",
    "print(b)"
   ]
  },
  {
   "cell_type": "code",
   "execution_count": 16,
   "metadata": {},
   "outputs": [
    {
     "name": "stdout",
     "output_type": "stream",
     "text": [
      "tensor([2., 2., 2., 2., 2., 2.])\n",
      "[2. 2. 2. 2. 2. 2.]\n"
     ]
    }
   ],
   "source": [
    "a.add_(1)\n",
    "print(a)\n",
    "print(b)  # change reflected"
   ]
  },
  {
   "cell_type": "code",
   "execution_count": 17,
   "metadata": {},
   "outputs": [
    {
     "name": "stdout",
     "output_type": "stream",
     "text": [
      "[2. 2. 2. 2. 2.]\n",
      "tensor([2., 2., 2., 2., 2.], dtype=torch.float64)\n"
     ]
    }
   ],
   "source": [
    "# numpy2tensor\n",
    "import numpy as np\n",
    "a = np.ones(5)\n",
    "b = torch.from_numpy(a)\n",
    "np.add(a, 1, out=a)\n",
    "print(a)\n",
    "print(b)"
   ]
  },
  {
   "cell_type": "markdown",
   "metadata": {},
   "source": [
    "# to cuda tensor"
   ]
  },
  {
   "cell_type": "markdown",
   "metadata": {},
   "source": [
    "```\n",
    "if torch.cuda.is_available():\n",
    "    device = torch.device(\"cuda\")\n",
    "    y = torch.ones_like(x, device=device)\n",
    "    x = x.to(device)\n",
    "    z = x + y\n",
    "    print(z)\n",
    "    print(z.to(\"cpu\", torch.double))\n",
    "```"
   ]
  }
 ],
 "metadata": {
  "kernelspec": {
   "display_name": "Python 3",
   "language": "python",
   "name": "python3"
  },
  "language_info": {
   "codemirror_mode": {
    "name": "ipython",
    "version": 3
   },
   "file_extension": ".py",
   "mimetype": "text/x-python",
   "name": "python",
   "nbconvert_exporter": "python",
   "pygments_lexer": "ipython3",
   "version": "3.7.7"
  }
 },
 "nbformat": 4,
 "nbformat_minor": 1
}
