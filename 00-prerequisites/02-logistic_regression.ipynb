{
 "cells": [
  {
   "cell_type": "markdown",
   "metadata": {},
   "source": [
    "https://www.coursera.org/learn/neural-networks-deep-learning"
   ]
  },
  {
   "cell_type": "markdown",
   "metadata": {},
   "source": [
    "# Logistic Regression\n",
    "\n",
    "## Forward\n",
    "\n",
    "### Steps\n",
    "\n",
    "- Assume there are M training examples given...\n",
    "\n",
    "    1. Make a prediction on first example\n",
    "    > $ z^{(1)} = w^T x^{(1)} + b$\n",
    "    \n",
    "    2. Compute activation\n",
    "    > $ a^{(1)} = \\sigma(z^{(1)})$\n",
    "\n",
    "    3. Repeat the above process on the 2nd example, and 3rd example and so on...\n",
    "    \n",
    "    \n",
    "### Vectorization\n",
    "\n",
    "- $ z = w^T X + b $\n",
    "\n",
    "## Backward\n",
    "\n",
    "### Gradient output\n",
    "\n",
    "$dz = A - Y$\n",
    "\n",
    "#### Weight\n",
    "\n",
    "- $dw = 0$\n",
    "- $dw += x^{(1)}dz^{(1)}$\n",
    "- $dw += x^{(2)}dz^{(2)}$\n",
    "- ...\n",
    "\n",
    "#### Bias\n",
    "\n",
    "- $db = 0$\n",
    "- $db += dz^{(1)}$\n",
    "- $db += dz^{(2)}$\n",
    "- ..."
   ]
  }
 ],
 "metadata": {
  "kernelspec": {
   "display_name": "Python 3",
   "language": "python",
   "name": "python3"
  },
  "language_info": {
   "codemirror_mode": {
    "name": "ipython",
    "version": 3
   },
   "file_extension": ".py",
   "mimetype": "text/x-python",
   "name": "python",
   "nbconvert_exporter": "python",
   "pygments_lexer": "ipython3",
   "version": "3.7.7"
  }
 },
 "nbformat": 4,
 "nbformat_minor": 4
}
