{
 "cells": [
  {
   "cell_type": "markdown",
   "metadata": {},
   "source": [
    "https://github.com/udacity/PyTorchCrashCourse/blob/master/PyTorch-Autoencoder.ipynb"
   ]
  },
  {
   "cell_type": "code",
   "execution_count": 1,
   "metadata": {},
   "outputs": [],
   "source": [
    "import numpy as np\n",
    "\n",
    "import torch\n",
    "from torch import nn\n",
    "import torch.nn.functional as F\n",
    "from torch import optim\n",
    "from torchvision import datasets, transforms\n",
    "import copy\n",
    "\n",
    "from tqdm.notebook import tqdm"
   ]
  },
  {
   "cell_type": "code",
   "execution_count": 2,
   "metadata": {},
   "outputs": [],
   "source": [
    "# helper functions\n",
    "\n",
    "import matplotlib.pyplot as plt\n",
    "# import numpy as np\n",
    "# from torch import nn, optim\n",
    "# from torch.autograd import Variable\n",
    "import copy\n",
    "\n",
    "def test_network(net, trainloader):\n",
    "\n",
    "    criterion = nn.MSELoss()\n",
    "    optimizer = optim.Adam(net.parameters(), lr=0.001)\n",
    "\n",
    "    dataiter = iter(trainloader)\n",
    "    images, labels = dataiter.next()\n",
    "\n",
    "    # Create Variables for the inputs and targets\n",
    "#     inputs = Variable(images)\n",
    "#     targets = Variable(images)\n",
    "    inputs = copy.deepcopy(images)\n",
    "    targets = copy.deepcopy(images)\n",
    "\n",
    "    # Clear the gradients from all Variables\n",
    "    optimizer.zero_grad()\n",
    "\n",
    "    # Forward pass, then backward pass, then update weights\n",
    "    output = net.forward(inputs)\n",
    "    loss = criterion(output, targets)\n",
    "    loss.backward()\n",
    "    optimizer.step()\n",
    "\n",
    "    return True\n",
    "\n",
    "\n",
    "def view_recon(img, recon):\n",
    "    ''' Function for displaying an image (as a PyTorch Tensor) and its \n",
    "        reconstruction also a PyTorch Tensor \n",
    "    '''\n",
    "    \n",
    "    fig, axes = plt.subplots(ncols=2, sharex=True, sharey=True)\n",
    "    axes[0].imshow(img.numpy().squeeze())\n",
    "    axes[1].imshow(recon.data.numpy().squeeze())\n",
    "    for ax in axes:\n",
    "        ax.axis('off')\n",
    "        ax.set_adjustable('box')\n",
    "        \n",
    "def view_classify(img, ps):\n",
    "    ''' Function for viewing an image and it's predicted classes.\n",
    "    '''\n",
    "    ps = ps.data.numpy().squeeze()\n",
    "\n",
    "    fig, (ax1, ax2) = plt.subplots(figsize=(6,7), ncols=2)\n",
    "    ax1.imshow(img.numpy().squeeze())\n",
    "    ax1.axis('off')\n",
    "    ax2.barh(np.arange(10), ps)\n",
    "    ax2.set_aspect(0.1)\n",
    "    ax2.set_yticks(np.arange(10))\n",
    "    ax2.set_yticklabels(np.arange(10).astype(int), size='large');\n",
    "    ax2.set_title('Digit Probability')\n",
    "    ax2.set_xlim(0, 1.1)"
   ]
  },
  {
   "cell_type": "markdown",
   "metadata": {},
   "source": [
    "# Load MNIST data"
   ]
  },
  {
   "cell_type": "code",
   "execution_count": 3,
   "metadata": {},
   "outputs": [],
   "source": [
    "# define transformation pipeline\n",
    "transform = transforms.Compose([transforms.ToTensor(),\n",
    "                                transforms.Normalize((0.5),\n",
    "                                                     (0.5))])"
   ]
  },
  {
   "cell_type": "code",
   "execution_count": 4,
   "metadata": {},
   "outputs": [],
   "source": [
    "# download dataset\n",
    "trainset = datasets.MNIST(\"data/\", download=True, train=True, transform=transform)\n",
    "testset = datasets.MNIST(\"data/\", download=True, train=False, transform=transform)"
   ]
  },
  {
   "cell_type": "code",
   "execution_count": 5,
   "metadata": {},
   "outputs": [],
   "source": [
    "# Create dataloader\n",
    "trainloader = torch.utils.data.DataLoader(trainset, batch_size=64, shuffle=True)\n",
    "testloader = torch.utils.data.DataLoader(testset, batch_size=64, shuffle=True)"
   ]
  },
  {
   "cell_type": "markdown",
   "metadata": {},
   "source": [
    "# Building network (for MNIST)"
   ]
  },
  {
   "cell_type": "markdown",
   "metadata": {},
   "source": [
    "```\n",
    "class Network(nn.Module):\n",
    "    def __init__(self):\n",
    "        super().__init__()\n",
    "\n",
    "        # Define the layers and operations here\n",
    "\n",
    "    def encoder(self, x):\n",
    "        # Forward pass through the encoder\n",
    "        return x\n",
    "\n",
    "    def decoder(self, x):\n",
    "        # Forward pass through the decoder\n",
    "        return x\n",
    "\n",
    "    def forward(self, x):\n",
    "\n",
    "        x = self.encoder(x)\n",
    "        logits = self.decoder(x)\n",
    "\n",
    "        return logits\n",
    "```"
   ]
  },
  {
   "cell_type": "code",
   "execution_count": 6,
   "metadata": {},
   "outputs": [],
   "source": [
    "class Network(nn.Module):\n",
    "    \n",
    "    def __init__(self, drop_prob=0.5):\n",
    "        super().__init__()\n",
    "        \n",
    "        # components needed for Encoder\n",
    "        self.conv1 = nn.Conv2d(1, 64, 3, stride=2, padding=1) # MNIST 8*8 with 3 RGB channels\n",
    "        self.conv2 = nn.Conv2d(64, 32, 3, stride=2, padding=1)\n",
    "        self.conv3 = nn.Conv2d(32, 16, 3, stride=2, padding=1)\n",
    "        self.conv4 = nn.Conv2d(16, 8, 3, stride=1, padding=1)\n",
    "        \n",
    "        # components needed for Decoder\n",
    "        self.upconv1 = nn.ConvTranspose2d(8, 8, 3, stride=2, padding=1)\n",
    "        self.upconv2 = nn.ConvTranspose2d(8, 16, 3, stride=2, padding=1)\n",
    "        self.upconv3 = nn.ConvTranspose2d(16, 32, 3, stride=1, padding=1)\n",
    "        self.upconv4 = nn.ConvTranspose2d(32, 64, 3, stride=2, padding=1)\n",
    "        self.out = nn.ConvTranspose2d(64, 1, 3, stride=1, padding=1)\n",
    "        \n",
    "        # dropout\n",
    "        self.drop = nn.Dropout(p=drop_prob)\n",
    "    \n",
    "    def encode(self, x):\n",
    "        x = self.drop(F.relu(self.conv1(x)))\n",
    "        x = self.drop(F.relu(self.conv2(x)))\n",
    "        x = self.drop(F.relu(self.conv3(x)))\n",
    "        x = F.relu(self.conv4(x))\n",
    "        return x\n",
    "    \n",
    "    def decode(self, x):\n",
    "        x = self.drop(F.relu(self.upconv1(x, output_size=(7, 7))))\n",
    "        x = self.drop(F.relu(self.upconv2(x, output_size=(14, 14))))\n",
    "        x = self.drop(F.relu(self.upconv3(x, output_size=(14, 14))))\n",
    "        x = self.drop(F.relu(self.upconv4(x, output_size=(28, 28))))\n",
    "        x = self.out(x)\n",
    "        return x\n",
    "    \n",
    "    def forward(self, x):\n",
    "        x = self.encode(x)\n",
    "        logits = self.decode(x)\n",
    "        return logits"
   ]
  },
  {
   "cell_type": "code",
   "execution_count": 7,
   "metadata": {},
   "outputs": [],
   "source": [
    "net = Network()"
   ]
  },
  {
   "cell_type": "code",
   "execution_count": 8,
   "metadata": {},
   "outputs": [
    {
     "data": {
      "text/plain": [
       "True"
      ]
     },
     "execution_count": 8,
     "metadata": {},
     "output_type": "execute_result"
    }
   ],
   "source": [
    "test_network(net, trainloader)"
   ]
  },
  {
   "cell_type": "markdown",
   "metadata": {},
   "source": [
    "# Train network"
   ]
  },
  {
   "cell_type": "code",
   "execution_count": 9,
   "metadata": {},
   "outputs": [],
   "source": [
    "epochs = 10\n",
    "print_every = 200\n",
    "show_every = 1000\n",
    "cuda = False\n",
    "\n",
    "net = Network(drop_prob=0.0)\n",
    "if cuda:\n",
    "    net.cuda()\n",
    "\n",
    "\n",
    "criterion = nn.MSELoss()\n",
    "optimizer = optim.Adam(params=net.parameters(),\n",
    "                       lr=0.001)"
   ]
  },
  {
   "cell_type": "code",
   "execution_count": 10,
   "metadata": {
    "scrolled": false
   },
   "outputs": [
    {
     "data": {
      "application/vnd.jupyter.widget-view+json": {
       "model_id": "3ff3b22976fa4f3e85c348f0273982ee",
       "version_major": 2,
       "version_minor": 0
      },
      "text/plain": [
       "HBox(children=(FloatProgress(value=0.0, max=938.0), HTML(value='')))"
      ]
     },
     "metadata": {},
     "output_type": "display_data"
    },
    {
     "name": "stdout",
     "output_type": "stream",
     "text": [
      "Epoch: 1/10.. Loss: 0.2947.. Test loss: 0.1075..\n",
      "Epoch: 1/10.. Loss: 0.0809.. Test loss: 0.0626..\n",
      "Epoch: 1/10.. Loss: 0.0534.. Test loss: 0.0445..\n",
      "Epoch: 1/10.. Loss: 0.0402.. Test loss: 0.0347..\n",
      "\n"
     ]
    },
    {
     "data": {
      "application/vnd.jupyter.widget-view+json": {
       "model_id": "cca982dfc12f4749827545a83e1cde1e",
       "version_major": 2,
       "version_minor": 0
      },
      "text/plain": [
       "HBox(children=(FloatProgress(value=0.0, max=938.0), HTML(value='')))"
      ]
     },
     "metadata": {},
     "output_type": "display_data"
    },
    {
     "name": "stdout",
     "output_type": "stream",
     "text": [
      "Epoch: 2/10.. Loss: 0.0332.. Test loss: 0.0309..\n"
     ]
    },
    {
     "data": {
      "image/png": "[encoded data removed]",
      "text/plain": [
       "<Figure size 432x288 with 2 Axes>"
      ]
     },
     "metadata": {
      "needs_background": "light"
     },
     "output_type": "display_data"
    },
    {
     "name": "stdout",
     "output_type": "stream",
     "text": [
      "Epoch: 2/10.. Loss: 0.0290.. Test loss: 0.0264..\n",
      "Epoch: 2/10.. Loss: 0.0262.. Test loss: 0.0244..\n",
      "Epoch: 2/10.. Loss: 0.0245.. Test loss: 0.0227..\n",
      "Epoch: 2/10.. Loss: 0.0230.. Test loss: 0.0218..\n",
      "\n"
     ]
    },
    {
     "data": {
      "application/vnd.jupyter.widget-view+json": {
       "model_id": "2366cb3d769749a4a8229af1b2b725a5",
       "version_major": 2,
       "version_minor": 0
      },
      "text/plain": [
       "HBox(children=(FloatProgress(value=0.0, max=938.0), HTML(value='')))"
      ]
     },
     "metadata": {},
     "output_type": "display_data"
    },
    {
     "name": "stdout",
     "output_type": "stream",
     "text": [
      "Epoch: 3/10.. Loss: 0.0216.. Test loss: 0.0204..\n"
     ]
    },
    {
     "data": {
      "image/png": "[encoded data removed]",
      "text/plain": [
       "<Figure size 432x288 with 2 Axes>"
      ]
     },
     "metadata": {
      "needs_background": "light"
     },
     "output_type": "display_data"
    },
    {
     "name": "stdout",
     "output_type": "stream",
     "text": [
      "Epoch: 3/10.. Loss: 0.0206.. Test loss: 0.0195..\n",
      "Epoch: 3/10.. Loss: 0.0199.. Test loss: 0.0186..\n",
      "Epoch: 3/10.. Loss: 0.0191.. Test loss: 0.0179..\n",
      "Epoch: 3/10.. Loss: 0.0185.. Test loss: 0.0177..\n",
      "\n"
     ]
    },
    {
     "data": {
      "application/vnd.jupyter.widget-view+json": {
       "model_id": "74ed3da1b4f7424cb33f041ad891ca90",
       "version_major": 2,
       "version_minor": 0
      },
      "text/plain": [
       "HBox(children=(FloatProgress(value=0.0, max=938.0), HTML(value='')))"
      ]
     },
     "metadata": {},
     "output_type": "display_data"
    },
    {
     "name": "stdout",
     "output_type": "stream",
     "text": [
      "Epoch: 4/10.. Loss: 0.0180.. Test loss: 0.0171..\n"
     ]
    },
    {
     "data": {
      "image/png": "[encoded data removed]",
      "text/plain": [
       "<Figure size 432x288 with 2 Axes>"
      ]
     },
     "metadata": {
      "needs_background": "light"
     },
     "output_type": "display_data"
    },
    {
     "name": "stdout",
     "output_type": "stream",
     "text": [
      "Epoch: 4/10.. Loss: 0.0175.. Test loss: 0.0169..\n",
      "Epoch: 4/10.. Loss: 0.0171.. Test loss: 0.0161..\n",
      "Epoch: 4/10.. Loss: 0.0168.. Test loss: 0.0161..\n",
      "\n"
     ]
    },
    {
     "data": {
      "application/vnd.jupyter.widget-view+json": {
       "model_id": "b5b984716e99490b8c67d45655b9fe47",
       "version_major": 2,
       "version_minor": 0
      },
      "text/plain": [
       "HBox(children=(FloatProgress(value=0.0, max=938.0), HTML(value='')))"
      ]
     },
     "metadata": {},
     "output_type": "display_data"
    },
    {
     "name": "stdout",
     "output_type": "stream",
     "text": [
      "Epoch: 5/10.. Loss: 0.0164.. Test loss: 0.0157..\n",
      "Epoch: 5/10.. Loss: 0.0160.. Test loss: 0.0168..\n"
     ]
    },
    {
     "data": {
      "image/png": "[encoded data removed]",
      "text/plain": [
       "<Figure size 432x288 with 2 Axes>"
      ]
     },
     "metadata": {
      "needs_background": "light"
     },
     "output_type": "display_data"
    },
    {
     "name": "stdout",
     "output_type": "stream",
     "text": [
      "Epoch: 5/10.. Loss: 0.0159.. Test loss: 0.0150..\n",
      "Epoch: 5/10.. Loss: 0.0152.. Test loss: 0.0146..\n",
      "Epoch: 5/10.. Loss: 0.0152.. Test loss: 0.0146..\n",
      "\n"
     ]
    },
    {
     "data": {
      "application/vnd.jupyter.widget-view+json": {
       "model_id": "2740c1bbf3e44cc79213e29d056c8af6",
       "version_major": 2,
       "version_minor": 0
      },
      "text/plain": [
       "HBox(children=(FloatProgress(value=0.0, max=938.0), HTML(value='')))"
      ]
     },
     "metadata": {},
     "output_type": "display_data"
    },
    {
     "name": "stdout",
     "output_type": "stream",
     "text": [
      "Epoch: 6/10.. Loss: 0.0150.. Test loss: 0.0146..\n",
      "Epoch: 6/10.. Loss: 0.0149.. Test loss: 0.0139..\n"
     ]
    },
    {
     "data": {
      "image/png": "[encoded data removed]",
      "text/plain": [
       "<Figure size 432x288 with 2 Axes>"
      ]
     },
     "metadata": {
      "needs_background": "light"
     },
     "output_type": "display_data"
    },
    {
     "name": "stdout",
     "output_type": "stream",
     "text": [
      "Epoch: 6/10.. Loss: 0.0147.. Test loss: 0.0143..\n",
      "Epoch: 6/10.. Loss: 0.0143.. Test loss: 0.0142..\n",
      "Epoch: 6/10.. Loss: 0.0142.. Test loss: 0.0137..\n",
      "\n"
     ]
    },
    {
     "data": {
      "application/vnd.jupyter.widget-view+json": {
       "model_id": "ed8b01a1c76441049e4b376524ec6e1b",
       "version_major": 2,
       "version_minor": 0
      },
      "text/plain": [
       "HBox(children=(FloatProgress(value=0.0, max=938.0), HTML(value='')))"
      ]
     },
     "metadata": {},
     "output_type": "display_data"
    },
    {
     "name": "stdout",
     "output_type": "stream",
     "text": [
      "Epoch: 7/10.. Loss: 0.0140.. Test loss: 0.0133..\n",
      "Epoch: 7/10.. Loss: 0.0140.. Test loss: 0.0132..\n"
     ]
    },
    {
     "data": {
      "image/png": "[encoded data removed]",
      "text/plain": [
       "<Figure size 432x288 with 2 Axes>"
      ]
     },
     "metadata": {
      "needs_background": "light"
     },
     "output_type": "display_data"
    },
    {
     "name": "stdout",
     "output_type": "stream",
     "text": [
      "Epoch: 7/10.. Loss: 0.0139.. Test loss: 0.0137..\n",
      "Epoch: 7/10.. Loss: 0.0135.. Test loss: 0.0129..\n",
      "\n"
     ]
    },
    {
     "data": {
      "application/vnd.jupyter.widget-view+json": {
       "model_id": "842084eea4144675a9b6c17bd9d14927",
       "version_major": 2,
       "version_minor": 0
      },
      "text/plain": [
       "HBox(children=(FloatProgress(value=0.0, max=938.0), HTML(value='')))"
      ]
     },
     "metadata": {},
     "output_type": "display_data"
    },
    {
     "name": "stdout",
     "output_type": "stream",
     "text": [
      "Epoch: 8/10.. Loss: 0.0135.. Test loss: 0.0128..\n",
      "Epoch: 8/10.. Loss: 0.0133.. Test loss: 0.0129..\n",
      "Epoch: 8/10.. Loss: 0.0132.. Test loss: 0.0126..\n"
     ]
    },
    {
     "data": {
      "image/png": "[encoded data removed]",
      "text/plain": [
       "<Figure size 432x288 with 2 Axes>"
      ]
     },
     "metadata": {
      "needs_background": "light"
     },
     "output_type": "display_data"
    },
    {
     "name": "stdout",
     "output_type": "stream",
     "text": [
      "Epoch: 8/10.. Loss: 0.0132.. Test loss: 0.0124..\n",
      "Epoch: 8/10.. Loss: 0.0130.. Test loss: 0.0126..\n",
      "\n"
     ]
    },
    {
     "data": {
      "application/vnd.jupyter.widget-view+json": {
       "model_id": "abd87ebbb4424108ab65551e3f345c1c",
       "version_major": 2,
       "version_minor": 0
      },
      "text/plain": [
       "HBox(children=(FloatProgress(value=0.0, max=938.0), HTML(value='')))"
      ]
     },
     "metadata": {},
     "output_type": "display_data"
    },
    {
     "name": "stdout",
     "output_type": "stream",
     "text": [
      "Epoch: 9/10.. Loss: 0.0128.. Test loss: 0.0123..\n",
      "Epoch: 9/10.. Loss: 0.0128.. Test loss: 0.0125..\n",
      "Epoch: 9/10.. Loss: 0.0126.. Test loss: 0.0123..\n"
     ]
    },
    {
     "data": {
      "image/png": "[encoded data removed]",
      "text/plain": [
       "<Figure size 432x288 with 2 Axes>"
      ]
     },
     "metadata": {
      "needs_background": "light"
     },
     "output_type": "display_data"
    },
    {
     "name": "stdout",
     "output_type": "stream",
     "text": [
      "Epoch: 9/10.. Loss: 0.0126.. Test loss: 0.0124..\n",
      "Epoch: 9/10.. Loss: 0.0126.. Test loss: 0.0122..\n",
      "\n"
     ]
    },
    {
     "data": {
      "application/vnd.jupyter.widget-view+json": {
       "model_id": "be05926ce3b446e9af5e84890adc7dd5",
       "version_major": 2,
       "version_minor": 0
      },
      "text/plain": [
       "HBox(children=(FloatProgress(value=0.0, max=938.0), HTML(value='')))"
      ]
     },
     "metadata": {},
     "output_type": "display_data"
    },
    {
     "name": "stdout",
     "output_type": "stream",
     "text": [
      "Epoch: 10/10.. Loss: 0.0123.. Test loss: 0.0127..\n",
      "Epoch: 10/10.. Loss: 0.0123.. Test loss: 0.0121..\n",
      "Epoch: 10/10.. Loss: 0.0123.. Test loss: 0.0119..\n"
     ]
    },
    {
     "data": {
      "image/png": "[encoded data removed]",
      "text/plain": [
       "<Figure size 432x288 with 2 Axes>"
      ]
     },
     "metadata": {
      "needs_background": "light"
     },
     "output_type": "display_data"
    },
    {
     "name": "stdout",
     "output_type": "stream",
     "text": [
      "Epoch: 10/10.. Loss: 0.0121.. Test loss: 0.0117..\n",
      "\n"
     ]
    }
   ],
   "source": [
    "steps = 0\n",
    "running_loss = 0\n",
    "\n",
    "for e in range(epochs):\n",
    "    for images, labels in tqdm(iter(trainloader)):\n",
    "        steps += 1\n",
    "        \n",
    "        inputs = copy.deepcopy(images)\n",
    "        targets = copy.deepcopy(images)\n",
    "        \n",
    "        if cuda:\n",
    "            inputs, targets = inputs.cuda(), targets.cuda()\n",
    "            \n",
    "        \n",
    "        # initialize gradient\n",
    "        optimizer.zero_grad()\n",
    "        \n",
    "        outputs = net.forward(inputs)\n",
    "        loss = criterion(outputs, targets)\n",
    "        loss.backward()\n",
    "        optimizer.step()\n",
    "        running_loss += loss.item()\n",
    "    \n",
    "        if steps % print_every == 0:\n",
    "            net.eval()\n",
    "            \n",
    "            val_loss = 0\n",
    "            with torch.no_grad():\n",
    "                for ii, (images, labels) in enumerate(testloader):\n",
    "                    \n",
    "                    inputs = copy.deepcopy(images)\n",
    "                    targets = copy.deepcopy(images)\n",
    "                    \n",
    "\n",
    "                    if cuda:\n",
    "                        inputs, targets = inputs.cuda(), targets.cuda()\n",
    "\n",
    "                    outputs = net.forward(inputs)\n",
    "                    val_loss += criterion(outputs, targets).item()\n",
    "                \n",
    "            print(\"Epoch: {}/{}..\".format(e+1, epochs),\n",
    "                  \"Loss: {:.4f}..\".format(running_loss/print_every),\n",
    "                  \"Test loss: {:.4f}..\".format(val_loss/(ii+1)),\n",
    "                 )\n",
    "            \n",
    "            running_loss = 0\n",
    "            net.train()\n",
    "            \n",
    "        if steps % show_every == 0:\n",
    "            net.cpu()\n",
    "            net.eval()\n",
    "            img = images[3]\n",
    "            with torch.no_grad():\n",
    "                x = img.resize_(1, *img.size())\n",
    "                recon = net(x)\n",
    "\n",
    "                view_recon(img, recon)\n",
    "                plt.show()\n",
    "            if cuda:\n",
    "                net.cuda()\n",
    "            net.train()"
   ]
  },
  {
   "cell_type": "markdown",
   "metadata": {},
   "source": [
    "# Encoding image to vector"
   ]
  },
  {
   "cell_type": "code",
   "execution_count": 12,
   "metadata": {},
   "outputs": [],
   "source": [
    "net.cpu()\n",
    "dataiter = iter(trainloader)\n",
    "images, labels = dataiter.next()"
   ]
  },
  {
   "cell_type": "code",
   "execution_count": 15,
   "metadata": {},
   "outputs": [],
   "source": [
    "img = images[3]\n",
    "# Need to resize the single image to add a fourth dimension\n",
    "with torch.no_grad():\n",
    "    x = img.resize_(1, *img.size())\n",
    "    comp = net.encode(x)"
   ]
  },
  {
   "cell_type": "code",
   "execution_count": 16,
   "metadata": {},
   "outputs": [
    {
     "data": {
      "text/plain": [
       "<matplotlib.image.AxesImage at 0x12b9f9350>"
      ]
     },
     "execution_count": 16,
     "metadata": {},
     "output_type": "execute_result"
    },
    {
     "data": {
      "image/png": "[encoded data removed]",
      "text/plain": [
       "<Figure size 432x288 with 1 Axes>"
      ]
     },
     "metadata": {
      "needs_background": "light"
     },
     "output_type": "display_data"
    }
   ],
   "source": [
    "comp_arr = comp.data.numpy().squeeze()\n",
    "comp_arr = comp_arr.reshape((8, 16))\n",
    "plt.imshow(comp_arr, cmap='Reds')"
   ]
  },
  {
   "cell_type": "code",
   "execution_count": null,
   "metadata": {},
   "outputs": [],
   "source": []
  }
 ],
 "metadata": {
  "kernelspec": {
   "display_name": "Python 3",
   "language": "python",
   "name": "python3"
  },
  "language_info": {
   "codemirror_mode": {
    "name": "ipython",
    "version": 3
   },
   "file_extension": ".py",
   "mimetype": "text/x-python",
   "name": "python",
   "nbconvert_exporter": "python",
   "pygments_lexer": "ipython3",
   "version": "3.7.7"
  }
 },
 "nbformat": 4,
 "nbformat_minor": 4
}
